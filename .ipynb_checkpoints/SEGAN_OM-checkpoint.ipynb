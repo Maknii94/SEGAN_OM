{
 "cells": [
  {
   "cell_type": "markdown",
   "metadata": {},
   "source": [
    "# SEGAN_OM\n",
    "\n",
    "a GAN based filter method for speech enhancement"
   ]
  },
  {
   "cell_type": "markdown",
   "metadata": {},
   "source": [
    "### 1) Data pipeline"
   ]
  },
  {
   "cell_type": "code",
   "execution_count": 1,
   "metadata": {},
   "outputs": [],
   "source": [
    "from __future__ import absolute_import\n",
    "from __future__ import division\n",
    "from __future__ import print_function\n",
    "\n",
    "import tensorflow as tf\n",
    "import numpy as np\n",
    "import scipy.io.wavfile as wavfile\n",
    "from io import *\n",
    "from pathlib import Path\n",
    "import os.path"
   ]
  },
  {
   "cell_type": "code",
   "execution_count": null,
   "metadata": {},
   "outputs": [],
   "source": [
    "# define the path to the dataset\n",
    "p = Path('.\\Dataset\\clean')\n",
    "for file in p.glob('*.wav'):\n",
    "    print(file)\n",
    "    break"
   ]
  },
  {
   "cell_type": "code",
   "execution_count": null,
   "metadata": {},
   "outputs": [],
   "source": [
    "# check the data --> to delete\n",
    "for file in p.glob('*.wav'):\n",
    "    fm, data = wavfile.read(file)\n",
    "    #tf.audio.decode_wav(file,desired_channels=-1,desired_samples=16000)\n",
    "    print(f\"fm: {fm}, wav_data: {data}, len_data: \", len(data))\n",
    "    break"
   ]
  },
  {
   "cell_type": "code",
   "execution_count": null,
   "metadata": {},
   "outputs": [],
   "source": [
    "# read each file and \n",
    "def read_and_slice(filename, wav_canvas_size, stride=0.5):\n",
    "    fm, wav_data = wavfile.read(filename)\n",
    "    if fm != 16000:\n",
    "        raise ValueError('Sampling rate is expected to be 16kHz!')\n",
    "    signals = slice_signal(wav_data, wav_canvas_size, stride)\n",
    "    return signals"
   ]
  },
  {
   "cell_type": "code",
   "execution_count": 2,
   "metadata": {},
   "outputs": [],
   "source": [
    "def slice_signal(signal, window_size, stride=0.5):\n",
    "    \"\"\" Return windows of the given signal by sweeping in stride fractions\n",
    "        of window\n",
    "    \"\"\"\n",
    "    assert signal.ndim == 1, signal.ndim\n",
    "    n_samples = signal.shape[0]\n",
    "    # print(\"n_samples: \", n_samples)\n",
    "    offset = int(window_size * stride)\n",
    "    slices = []\n",
    "    for beg_i in range(0, n_samples, offset):\n",
    "        end_i = beg_i + offset\n",
    "        slice_ = signal[beg_i:end_i]\n",
    "        # pad the rest of the slice with 0\n",
    "        if end_i - beg_i > n_samples - beg_i:\n",
    "            slice_ = signal[beg_i:n_samples]\n",
    "            test_l = np.zeros((offset-(n_samples-beg_i)))\n",
    "            slice_ = np.concatenate((slice_,test_l),axis=None)\n",
    "\n",
    "        if slice_.shape[0] == offset:\n",
    "            slices.append(slice_)\n",
    "    return np.array(slices, dtype=np.int32)"
   ]
  },
  {
   "cell_type": "code",
   "execution_count": null,
   "metadata": {},
   "outputs": [],
   "source": [
    "signals_clean = []\n",
    "for file in p.glob('*.wav'):\n",
    "    audio_serial = read_and_slice(file, 2 ** 14, stride=1)\n",
    "    print(audio_serial.shape)\n",
    "    signals_clean.append(audio_serial)"
   ]
  },
  {
   "cell_type": "code",
   "execution_count": 3,
   "metadata": {},
   "outputs": [],
   "source": [
    "# From TFRecord Tutorial\n",
    "# The following functions can be used to convert a value to a type compatible\n",
    "\n",
    "def _bytes_feature(value):\n",
    "    \"\"\"Returns a bytes_list from a string / byte.\"\"\"\n",
    "    if isinstance(value, type(tf.constant(0))):\n",
    "        value = value.numpy() # BytesList won't unpack a string from an EagerTensor.\n",
    "    return tf.train.Feature(bytes_list=tf.train.BytesList(value=[value]))\n",
    "\n",
    "def _float_feature(value):\n",
    "    \"\"\"Returns a float_list from a float / double.\"\"\"\n",
    "    return tf.train.Feature(float_list=tf.train.FloatList(value=[value]))\n",
    "\n",
    "def _int64_feature(value):\n",
    "    \"\"\"Returns an int64_list from a bool / enum / int / uint.\"\"\"\n",
    "    return tf.train.Feature(int64_list=tf.train.Int64List(value=[value]))"
   ]
  },
  {
   "cell_type": "code",
   "execution_count": null,
   "metadata": {},
   "outputs": [],
   "source": [
    "print(len(signals_clean))"
   ]
  },
  {
   "cell_type": "code",
   "execution_count": null,
   "metadata": {},
   "outputs": [],
   "source": [
    "out_filepath = Path('.\\Dataset\\records')\n",
    "out_file = tf.io.TFRecordWriter(out_filepath)"
   ]
  },
  {
   "cell_type": "code",
   "execution_count": null,
   "metadata": {},
   "outputs": [],
   "source": [
    "for wav in signals_clean:\n",
    "    wav_raw = wav.tostring()\n",
    "    example = tf.train.Example(features=tf.train.Features(feature={\n",
    "        'wav_raw': _bytes_feature(wav_raw)}))\n",
    "    out_file.write(example.SerializeToString())"
   ]
  },
  {
   "cell_type": "code",
   "execution_count": null,
   "metadata": {},
   "outputs": [],
   "source": [
    "def make_Record(path, file):\n",
    "    # create the path if it does not exist\n",
    "    if not os.path.exists(path):\n",
    "        os.makedirs(path)\n",
    "    name, _ = os.path.splitext(file) # extract the name of the file\n",
    "    name =+ '.tfrecords'\n",
    "    output_file = os.path.join(path, name) # add it to the working path\n",
    "    if os.path.exists(out_filepath): # check if it already exists\n",
    "        raise ValueError(f'ERROR: {output_file} already exists')\n",
    "    out_file = tf.io.TFRecordWriter(out_filepath) # instantiate the recorder\n",
    "    fm, wav_data = wavfile.read(file) # read the wav file\n",
    "    if fm != 16000: # check it sampling\n",
    "        raise ValueError('Sampling rate is expected to be 16kHz!')\n",
    "    audio_serial = slice_signal(wav_data, 2 ** 14, stride=1) # transform it into a np.array\n",
    "    example = tf.train.Example(features=tf.train.Features(feature={\n",
    "            'wav_raw': _bytes_feature(audio_serial),"
   ]
  },
  {
   "cell_type": "code",
   "execution_count": null,
   "metadata": {},
   "outputs": [],
   "source": [
    "path = \"./Dataset/clean\"\n",
    "#os.path.exists(path)\n",
    "signals_clean = []\n",
    "for file in  os.listdir(path):\n",
    "    #print(file)\n",
    "    name, _ = os.path.splitext(file)\n",
    "    audio_serial = read_and_slice(file, 2 ** 14, stride=1)\n",
    "    print(audio_serial.shape)\n",
    "    signals_clean.append(audio_serial)"
   ]
  },
  {
   "cell_type": "code",
   "execution_count": null,
   "metadata": {},
   "outputs": [],
   "source": [
    "signals_clean = []\n",
    "for file in p.glob('*.wav'):\n",
    "    audio_serial = read_and_slice(file, 2 ** 14, stride=1)\n",
    "    print(audio_serial.shape)\n",
    "    signals_clean.append(audio_serial)"
   ]
  }
 ],
 "metadata": {
  "kernelspec": {
   "display_name": "Python 3",
   "language": "python",
   "name": "python3"
  },
  "language_info": {
   "codemirror_mode": {
    "name": "ipython",
    "version": 3
   },
   "file_extension": ".py",
   "mimetype": "text/x-python",
   "name": "python",
   "nbconvert_exporter": "python",
   "pygments_lexer": "ipython3",
   "version": "3.7.6"
  }
 },
 "nbformat": 4,
 "nbformat_minor": 2
}
