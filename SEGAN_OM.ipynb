{
 "cells": [
  {
   "cell_type": "markdown",
   "metadata": {},
   "source": [
    "# SEGAN_OM\n",
    "\n",
    "a GAN based filter method for speech enhancement"
   ]
  },
  {
   "cell_type": "markdown",
   "metadata": {},
   "source": [
    "### 1) Data pipeline"
   ]
  },
  {
   "cell_type": "code",
   "execution_count": 1,
   "metadata": {},
   "outputs": [],
   "source": [
    "from __future__ import absolute_import\n",
    "from __future__ import division\n",
    "from __future__ import print_function\n",
    "\n",
    "import tensorflow as tf\n",
    "import numpy as np\n",
    "from io import *\n",
    "import os.path"
   ]
  },
  {
   "cell_type": "code",
   "execution_count": null,
   "metadata": {},
   "outputs": [],
   "source": [
    "SAMPLE_SIZE=2*15\n",
    "kernel_size=31\n",
    "BATCH_SIZE = 10 # used for loading the data "
   ]
  },
  {
   "cell_type": "code",
   "execution_count": null,
   "metadata": {},
   "outputs": [],
   "source": [
    "def load_file(file_path, window = 2**14, stride=0.5, sampling=16000):\n",
    "    \"\"\"\n",
    "    Loads a wav file and returns it as a Tensor.\n",
    "    Inputs:\n",
    "    file_path: the path of the wav file\n",
    "    window: optional, size of each sample batch\n",
    "    stride: optional, defult = 0.5\n",
    "    sampling: optional, sampling rate, default 16000\n",
    "    Returns:\n",
    "    slices: a list of TF-Tensors containing the values of the wav after cropping the last part exceding the windows width\n",
    "    \"\"\"\n",
    "    sampling_rate = tf.constant(sampling,dtype=tf.int32,shape=())\n",
    "    slices = []\n",
    "    window = int(window*stride)\n",
    "    file = tf.io.read_file(file_path)\n",
    "    input_sequence = tf.audio.decode_wav(file)\n",
    "    if not tf.math.equal(sampling_rate,input_sequence[1]):\n",
    "        raise ValueError(f'Sampling rate is expected to be {sampling}! Got {input_sequence[1]}')\n",
    "    input_sequence_length = input_sequence[0].shape[0]\n",
    "    for win_start in range(0,input_sequence_length,window):\n",
    "        slice_window = input_sequence[0][win_start:win_start+window]\n",
    "        if slice_window.shape[0] == window:\n",
    "            slices.append(slice_window)\n",
    "    return np.array(slices, dtype=np.float64)"
   ]
  },
  {
   "cell_type": "code",
   "execution_count": null,
   "metadata": {},
   "outputs": [],
   "source": [
    "# From TFRecord Tutorial\n",
    "# The following functions can be used to convert a value to a type compatible\n",
    "\n",
    "def _bytes_feature(value):\n",
    "    \"\"\"Returns a bytes_list from a string / byte.\"\"\"\n",
    "    if isinstance(value, type(tf.constant(0))):\n",
    "        value = value.numpy() # BytesList won't unpack a string from an EagerTensor.\n",
    "    return tf.train.Feature(bytes_list=tf.train.BytesList(value=[value]))\n",
    "\n",
    "def _float_feature(value):\n",
    "    \"\"\"Returns a float_list from a float / double.\"\"\"\n",
    "    return tf.train.Feature(float_list=tf.train.FloatList(value=[value]))\n",
    "\n",
    "def _int64_feature(value):\n",
    "    \"\"\"Returns an int64_list from a bool / enum / int / uint.\"\"\"\n",
    "    return tf.train.Feature(int64_list=tf.train.Int64List(value=[value]))"
   ]
  },
  {
   "cell_type": "code",
   "execution_count": null,
   "metadata": {},
   "outputs": [],
   "source": [
    "path = \"./Dataset/clean\"\n",
    "out_filepath = './Dataset/save10.tfrecords'\n",
    "out_file = tf.io.TFRecordWriter(out_filepath)\n",
    "signals_clean = []\n",
    "for file in  os.listdir(path):\n",
    "    sequence=load_file(os.path.join(path,file))\n",
    "    signals_clean.append(sequence)\n",
    "    break"
   ]
  },
  {
   "cell_type": "code",
   "execution_count": null,
   "metadata": {},
   "outputs": [],
   "source": [
    "for wav in signals_clean:\n",
    "    print(wav.shape)\n",
    "    #wav_raw = wav.tostring()\n",
    "    #example = tf.train.Example(features=tf.train.Features(feature={\n",
    "     #   'wav_raw': _bytes_feature(wav_raw)}))"
   ]
  },
  {
   "cell_type": "markdown",
   "metadata": {},
   "source": [
    "### 2) Layers & Model"
   ]
  },
  {
   "cell_type": "markdown",
   "metadata": {},
   "source": [
    "#### 2.1: Build the Generator"
   ]
  },
  {
   "cell_type": "code",
   "execution_count": 3,
   "metadata": {},
   "outputs": [],
   "source": [
    "def downsample(filter_width, kernel=31, \n",
    "              strides = 2, padding = 'same', init= None):\n",
    "    \"\"\"\n",
    "    creates a 1D-Conv-Block for the Generator with given kernel & filters.\n",
    "    \n",
    "    Arguments:\n",
    "    filter_size -- tf.keras.Conv1D.filters\n",
    "    kernel -- tf.keras.Conv1D.kernel_size, set to 31 for this application\n",
    "    strides -- optional, default is '2' for this application\n",
    "    padding -- optional, default is 'same'\n",
    "    init -- weights initializer, will be set to He is none is given\n",
    "    \n",
    "    Returns:\n",
    "    block -- tf.Tensor block of a 1D-Conv\n",
    "    \"\"\"\n",
    "    # set the initializer if none is given\n",
    "    if init is None:\n",
    "        init = tf.keras.initializers.he_normal()\n",
    "    \n",
    "    # make the convolutional block\n",
    "    block = tf.keras.Sequential()\n",
    "    block.add(tf.keras.layers.Conv1D(filters = filter_width, kernel_size = kernel, strides= strides,\n",
    "                                     #(kernel, 1), strides=(strides, 1), #for conv2d\n",
    "                                     padding=padding, kernel_initializer=init, use_bias=False))\n",
    "    # add the activation function\n",
    "    block.add(tf.keras.layers.PReLU())\n",
    "    \n",
    "    return block"
   ]
  },
  {
   "cell_type": "code",
   "execution_count": null,
   "metadata": {},
   "outputs": [],
   "source": [
    "down_model = downsample(3, 4)\n",
    "wav = tf.keras.backend.expand_dims(wav, axis=2)\n",
    "down_result = down_model(wav)\n",
    "print (down_result.shape)\n",
    "down_result = tf.keras.backend.squeeze(down_result, axis=2)\n",
    "print (down_result.shape)"
   ]
  },
  {
   "cell_type": "code",
   "execution_count": null,
   "metadata": {},
   "outputs": [],
   "source": [
    "def upsample(filter_width, kernel=31, \n",
    "              strides = 2, padding = 'same', init= None):\n",
    "    \"\"\"\n",
    "    creates a 1D-Deconv-Block for the Generator with given kernel & filters.\n",
    "    \n",
    "    Arguments:\n",
    "    filter_size -- tf.keras.Conv1D.filters\n",
    "    kernel -- tf.keras.Conv1D.kernel_size, set to 31 for this application\n",
    "    strides -- optional, default is '2' for this application\n",
    "    padding -- optional, default is 'same'\n",
    "    init -- weights initializer, will be set to He is none is given\n",
    "    \n",
    "    Returns:\n",
    "    block -- tf.Tensor block of a 1D-Conv\n",
    "    \"\"\"\n",
    "    # set the initializer if none is given\n",
    "    if init is None:\n",
    "        init = tf.keras.initializers.he_normal()\n",
    "    \n",
    "    # make the convolutional block\n",
    "    block = tf.keras.Sequential()\n",
    "    block.add(tf.keras.layers.Conv2DTranspose(filters = filter_width, kernel_size = (kernel, 1), strides=(strides, 1),\n",
    "                                     padding=padding, kernel_initializer=init, use_bias=False))\n",
    "    \n",
    "    \n",
    "    # add the activation function\n",
    "    block.add(tf.keras.layers.LeakyReLU())\n",
    "    \n",
    "    return block"
   ]
  },
  {
   "cell_type": "code",
   "execution_count": null,
   "metadata": {},
   "outputs": [],
   "source": [
    "up_model = upsample(3, 4)\n",
    "wav = tf.keras.backend.expand_dims(wav, axis=2)\n",
    "print(wav.shape)\n",
    "up_result = up_model(wav)\n",
    "print(up_result.shape)\n",
    "up_result = tf.keras.backend.squeeze(up_result, axis=2)\n",
    "print (up_result.shape)"
   ]
  },
  {
   "cell_type": "code",
   "execution_count": 4,
   "metadata": {},
   "outputs": [],
   "source": [
    "def Generator():\n",
    "    inputs = tf.keras.layers.Input(shape=[16384, 1])\n",
    "    #inputs = tf.keras.backend.expand_dims(inputs, axis=1)\n",
    "    \n",
    "    down_stack = [\n",
    "        downsample(16384, 1),\n",
    "        downsample(8192, 16),\n",
    "        downsample(4096, 32),\n",
    "        #downsample(2048, 32),\n",
    "        #downsample(1024, 64),\n",
    "        #downsample(512,  64),\n",
    "        #downsample(256, 128),\n",
    "        #downsample(128, 128),\n",
    "        #downsample(64,  256),\n",
    "        #downsample(32,  256),\n",
    "        #downsample(16,  512),\n",
    "        #downsample(8,  1024),\n",
    "    ]\n",
    "\n",
    "    #up_stack = [\n",
    "        #upsample(8,  512),\n",
    "        #upsample(16,  256),\n",
    "        #upsample(32,  256),\n",
    "        #upsample(64,  128),\n",
    "        #upsample(128, 128),\n",
    "        #upsample(256, 64),\n",
    "        #upsample(512,  64),\n",
    "        #upsample(1024, 32),\n",
    "        #upsample(2048, 32),\n",
    "        #upsample(4096, 16),\n",
    "        #upsample(8192, 16),\n",
    "        #upsample(16384, 1),\n",
    "    #]\n",
    "\n",
    "    x = inputs\n",
    "\n",
    "    # Downsampling through the model\n",
    "    skips = []\n",
    "    for down in down_stack:\n",
    "        x = down(x)\n",
    "        skips.append(x)\n",
    "\n",
    "    skips = reversed(skips[:-1])\n",
    "\n",
    "    # Upsampling and establishing the skip connections\n",
    "    #for up, skip in zip(up_stack, skips):\n",
    "     #   x = up(x)\n",
    "     #   x = tf.keras.layers.Concatenate()([x, skip])\n",
    "\n",
    "\n",
    "    return tf.keras.Model(inputs=inputs, outputs=x)"
   ]
  },
  {
   "cell_type": "code",
   "execution_count": null,
   "metadata": {},
   "outputs": [],
   "source": [
    "generator = Generator()\n",
    "tf.keras.utils.plot_model(generator, show_shapes=True)#, dpi=64)"
   ]
  },
  {
   "cell_type": "code",
   "execution_count": null,
   "metadata": {},
   "outputs": [],
   "source": []
  }
 ],
 "metadata": {
  "kernelspec": {
   "display_name": "Python 3",
   "language": "python",
   "name": "python3"
  },
  "language_info": {
   "codemirror_mode": {
    "name": "ipython",
    "version": 3
   },
   "file_extension": ".py",
   "mimetype": "text/x-python",
   "name": "python",
   "nbconvert_exporter": "python",
   "pygments_lexer": "ipython3",
   "version": "3.7.6"
  }
 },
 "nbformat": 4,
 "nbformat_minor": 2
}
