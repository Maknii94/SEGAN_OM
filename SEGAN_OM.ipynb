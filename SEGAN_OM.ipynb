{
 "cells": [
  {
   "cell_type": "markdown",
   "metadata": {},
   "source": [
    "# SEGAN_OM\n",
    "\n",
    "a GAN based filter method for speech enhancement"
   ]
  },
  {
   "cell_type": "markdown",
   "metadata": {},
   "source": [
    "### 1) Data pipeline"
   ]
  },
  {
   "cell_type": "code",
   "execution_count": 1,
   "metadata": {},
   "outputs": [],
   "source": [
    "from __future__ import absolute_import\n",
    "from __future__ import division\n",
    "from __future__ import print_function\n",
    "\n",
    "import tensorflow as tf\n",
    "import numpy as np\n",
    "import scipy.io.wavfile as wavfile\n",
    "from io import *\n",
    "import os.path"
   ]
  },
  {
   "cell_type": "code",
   "execution_count": 2,
   "metadata": {},
   "outputs": [],
   "source": [
    "SAMPLE_SIZE=2*15\n",
    "kernel_size=31"
   ]
  },
  {
   "cell_type": "code",
   "execution_count": 22,
   "metadata": {},
   "outputs": [],
   "source": [
    "def load_file(file_path, window = 2**14, stride=0.5, sampling=16000):\n",
    "    \"\"\"\n",
    "    Loads a wav file and returns it as a Tensor.\n",
    "    Inputs:\n",
    "    file_path: the path of the wav file\n",
    "    window: optional, size of each sample batch\n",
    "    stride: optional, defult = 0.5\n",
    "    sampling: optional, sampling rate, default 16000\n",
    "    Returns:\n",
    "    slices: a list of TF-Tensors containing the values of the wav after cropping the last part exceding the windows width\n",
    "    \"\"\"\n",
    "    sampling_rate = tf.constant(sampling,dtype=tf.int32,shape=())\n",
    "    slices = []\n",
    "    window = int(window*stride)\n",
    "    file = tf.io.read_file(file_path)\n",
    "    input_sequence = tf.audio.decode_wav(file)\n",
    "    if not tf.math.equal(sampling_rate,input_sequence[1]):\n",
    "        raise ValueError(f'Sampling rate is expected to be {sampling}! Got {input_sequence[1]}')\n",
    "    input_sequence_length = input_sequence[0].shape[0]\n",
    "    for win_start in range(0,input_sequence_length,window):\n",
    "        slice_window = input_sequence[0][win_start:win_start+window]\n",
    "        if slice_window.shape[0] == window:\n",
    "            slices.append(slice_window)\n",
    "    return np.array(slices, dtype=np.float64)"
   ]
  },
  {
   "cell_type": "code",
   "execution_count": 23,
   "metadata": {},
   "outputs": [],
   "source": [
    "# From TFRecord Tutorial\n",
    "# The following functions can be used to convert a value to a type compatible\n",
    "\n",
    "def _bytes_feature(value):\n",
    "    \"\"\"Returns a bytes_list from a string / byte.\"\"\"\n",
    "    if isinstance(value, type(tf.constant(0))):\n",
    "        value = value.numpy() # BytesList won't unpack a string from an EagerTensor.\n",
    "    return tf.train.Feature(bytes_list=tf.train.BytesList(value=[value]))\n",
    "\n",
    "def _float_feature(value):\n",
    "    \"\"\"Returns a float_list from a float / double.\"\"\"\n",
    "    return tf.train.Feature(float_list=tf.train.FloatList(value=[value]))\n",
    "\n",
    "def _int64_feature(value):\n",
    "    \"\"\"Returns an int64_list from a bool / enum / int / uint.\"\"\"\n",
    "    return tf.train.Feature(int64_list=tf.train.Int64List(value=[value]))"
   ]
  },
  {
   "cell_type": "code",
   "execution_count": 24,
   "metadata": {},
   "outputs": [],
   "source": [
    "def make_example():\n",
    "    \"\"\"\n",
    "    Inputs:\n",
    "    Returns:\n",
    "    \"\"\"\n",
    "    return 0"
   ]
  },
  {
   "cell_type": "code",
   "execution_count": 25,
   "metadata": {},
   "outputs": [],
   "source": [
    "def create_record():\n",
    "    \"\"\"\n",
    "    Inputs:\n",
    "    Returns:\n",
    "    \"\"\"\n",
    "    return 0"
   ]
  },
  {
   "cell_type": "code",
   "execution_count": 26,
   "metadata": {},
   "outputs": [],
   "source": [
    "path = \"./Dataset/clean\"\n",
    "out_filepath = './Dataset/save10.tfrecords'\n",
    "out_file = tf.io.TFRecordWriter(out_filepath)\n",
    "signals_clean = []\n",
    "for file in  os.listdir(path):\n",
    "    sequence=load_file(os.path.join(path,file))\n",
    "    signals_clean.append(sequence)\n",
    "    break"
   ]
  },
  {
   "cell_type": "code",
   "execution_count": 29,
   "metadata": {},
   "outputs": [],
   "source": [
    "for wav in signals_clean:\n",
    "    wav_raw = wav.tostring()\n",
    "    example = tf.train.Example(features=tf.train.Features(feature={\n",
    "        'wav_raw': _bytes_feature(wav_raw)}))"
   ]
  }
 ],
 "metadata": {
  "kernelspec": {
   "display_name": "Python 3",
   "language": "python",
   "name": "python3"
  },
  "language_info": {
   "codemirror_mode": {
    "name": "ipython",
    "version": 3
   },
   "file_extension": ".py",
   "mimetype": "text/x-python",
   "name": "python",
   "nbconvert_exporter": "python",
   "pygments_lexer": "ipython3",
   "version": "3.7.6"
  }
 },
 "nbformat": 4,
 "nbformat_minor": 2
}
