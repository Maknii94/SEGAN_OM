{
 "cells": [
  {
   "cell_type": "markdown",
   "metadata": {},
   "source": [
    "# RaaGAN\n",
    "\n",
    "a GAN based filter method to substruct noises from a radar signal"
   ]
  },
  {
   "cell_type": "markdown",
   "metadata": {},
   "source": [
    "### 1) Data pipeline"
   ]
  },
  {
   "cell_type": "code",
   "execution_count": 1,
   "metadata": {},
   "outputs": [],
   "source": [
    "from __future__ import absolute_import\n",
    "from __future__ import division\n",
    "from __future__ import print_function\n",
    "\n",
    "import tensorflow as tf\n",
    "import numpy as np\n",
    "import scipy.io.wavfile as wavfile\n",
    "from io import *\n",
    "from pathlib import Path"
   ]
  },
  {
   "cell_type": "code",
   "execution_count": 91,
   "metadata": {},
   "outputs": [
    {
     "name": "stdout",
     "output_type": "stream",
     "text": [
      "Dataset\\clean\\DR1_FCJF0_SA1.wav\n"
     ]
    }
   ],
   "source": [
    "# define the path to the dataset\n",
    "p = Path('.\\Dataset\\clean')\n",
    "for file in p.glob('*.wav'):\n",
    "    print(file)\n",
    "    break"
   ]
  },
  {
   "cell_type": "code",
   "execution_count": 92,
   "metadata": {},
   "outputs": [
    {
     "name": "stdout",
     "output_type": "stream",
     "text": [
      "fm: 16000, wav_data: [ 1 -1  2 ... -1 -5 -8], len_data:  46797\n"
     ]
    }
   ],
   "source": [
    "# check the data --> to delete\n",
    "for file in p.glob('*.wav'):\n",
    "    fm, data = wavfile.read(file)\n",
    "    #tf.audio.decode_wav(file,desired_channels=-1,desired_samples=16000)\n",
    "    print(f\"fm: {fm}, wav_data: {data}, len_data: \", len(data))\n",
    "    break"
   ]
  },
  {
   "cell_type": "code",
   "execution_count": 93,
   "metadata": {},
   "outputs": [],
   "source": [
    "# read each file and \n",
    "def read_and_slice(filename, wav_canvas_size, stride=0.5):\n",
    "    fm, wav_data = wavfile.read(filename)\n",
    "    if fm != 16000:\n",
    "        raise ValueError('Sampling rate is expected to be 16kHz!')\n",
    "    signals = slice_signal(wav_data, wav_canvas_size, stride)\n",
    "    return signals"
   ]
  },
  {
   "cell_type": "code",
   "execution_count": 102,
   "metadata": {},
   "outputs": [],
   "source": [
    "def slice_signal(signal, window_size, stride=0.5):\n",
    "    \"\"\" Return windows of the given signal by sweeping in stride fractions\n",
    "        of window\n",
    "    \"\"\"\n",
    "    assert signal.ndim == 1, signal.ndim\n",
    "    n_samples = signal.shape[0]\n",
    "    print(\"n_samples: \", n_samples)\n",
    "    offset = int(window_size * stride)\n",
    "    slices = []\n",
    "    for beg_i in range(0, n_samples, offset):\n",
    "        end_i = beg_i + offset\n",
    "        slice_ = signal[beg_i:end_i]\n",
    "        # pad the rest of the slice with 0\n",
    "        if end_i - beg_i > n_samples - beg_i:\n",
    "            slice_ = signal[beg_i:n_samples]\n",
    "            test_l = np.zeros((offset-(n_samples-beg_i)))\n",
    "            slice_ = np.concatenate((slice_,test_l),axis=None)\n",
    "\n",
    "        if slice_.shape[0] == offset:\n",
    "            slices.append(slice_)\n",
    "    return np.array(slices, dtype=np.int32)"
   ]
  },
  {
   "cell_type": "code",
   "execution_count": 109,
   "metadata": {},
   "outputs": [
    {
     "name": "stdout",
     "output_type": "stream",
     "text": [
      "n_samples:  46797\n",
      "(3, 16384)\n",
      "n_samples:  34509\n",
      "(3, 16384)\n",
      "n_samples:  49460\n",
      "(4, 16384)\n",
      "n_samples:  45466\n",
      "(3, 16384)\n",
      "n_samples:  57856\n",
      "(4, 16384)\n",
      "n_samples:  24679\n",
      "(2, 16384)\n",
      "n_samples:  27751\n",
      "(2, 16384)\n",
      "n_samples:  23143\n",
      "(2, 16384)\n",
      "n_samples:  36250\n",
      "(3, 16384)\n",
      "n_samples:  39220\n",
      "(3, 16384)\n",
      "10\n"
     ]
    }
   ],
   "source": [
    "signals_clean = []\n",
    "for file in p.glob('*.wav'):\n",
    "    audio_serial = read_and_slice(file, 2 ** 14, stride=1)\n",
    "    print(audio_serial.shape)\n",
    "    signals_clean.append(audio_serial)\n",
    "    if len(signals_clean) > 9:\n",
    "        break\n",
    "    \n",
    "print(len(signals_clean))"
   ]
  },
  {
   "cell_type": "code",
   "execution_count": null,
   "metadata": {},
   "outputs": [],
   "source": []
  }
 ],
 "metadata": {
  "kernelspec": {
   "display_name": "Python 3",
   "language": "python",
   "name": "python3"
  },
  "language_info": {
   "codemirror_mode": {
    "name": "ipython",
    "version": 3
   },
   "file_extension": ".py",
   "mimetype": "text/x-python",
   "name": "python",
   "nbconvert_exporter": "python",
   "pygments_lexer": "ipython3",
   "version": "3.7.6"
  }
 },
 "nbformat": 4,
 "nbformat_minor": 2
}
