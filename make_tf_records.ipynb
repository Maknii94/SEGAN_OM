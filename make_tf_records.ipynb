{
 "cells": [
  {
   "cell_type": "code",
   "execution_count": 1,
   "metadata": {},
   "outputs": [],
   "source": [
    "from __future__ import absolute_import\n",
    "from __future__ import division\n",
    "from __future__ import print_function\n",
    "\n",
    "import tensorflow as tf\n",
    "import numpy as np\n",
    "import scipy.io.wavfile as wavfile\n",
    "from io import *\n",
    "import os.path"
   ]
  },
  {
   "cell_type": "code",
   "execution_count": 11,
   "metadata": {},
   "outputs": [],
   "source": [
    "# From TFRecord Tutorial\n",
    "# The following functions can be used to convert a value to a type compatible\n",
    "\n",
    "def _bytes_feature(value):\n",
    "    \"\"\"Returns a bytes_list from a string / byte.\"\"\"\n",
    "    if isinstance(value, type(tf.constant(0))):\n",
    "        value = value.numpy() # BytesList won't unpack a string from an EagerTensor.\n",
    "    return tf.train.Feature(bytes_list=tf.train.BytesList(value=[value]))\n",
    "\n",
    "def _float_feature(value):\n",
    "    \"\"\"Returns a float_list from a float / double.\"\"\"\n",
    "    return tf.train.Feature(float_list=tf.train.FloatList(value=[value]))\n",
    "\n",
    "def _int64_feature(value):\n",
    "    \"\"\"Returns an int64_list from a bool / enum / int / uint.\"\"\"\n",
    "    return tf.train.Feature(int64_list=tf.train.Int64List(value=[value]))"
   ]
  },
  {
   "cell_type": "code",
   "execution_count": 12,
   "metadata": {},
   "outputs": [],
   "source": [
    "def slice_signal(signal, window_size, stride=0.5):\n",
    "    \"\"\" Return windows of the given signal by sweeping in stride fractions\n",
    "        of window\n",
    "    \"\"\"\n",
    "    assert signal.ndim == 1, signal.ndim\n",
    "    n_samples = signal.shape[0]\n",
    "    offset = int(window_size * stride)\n",
    "    slices = []\n",
    "    for beg_i in range(0, n_samples, offset):\n",
    "        end_i = beg_i + offset\n",
    "        slice_ = signal[beg_i:end_i]\n",
    "        # pad the rest of the slice with 0\n",
    "        if end_i - beg_i > n_samples - beg_i:\n",
    "            slice_ = signal[beg_i:n_samples]\n",
    "            test_l = np.zeros((offset-(n_samples-beg_i)))\n",
    "            slice_ = np.concatenate((slice_,test_l),axis=None)\n",
    "        if slice_.shape[0] == offset:\n",
    "            slices.append(slice_)\n",
    "    return np.array(slices, dtype=np.int32)"
   ]
  },
  {
   "cell_type": "code",
   "execution_count": null,
   "metadata": {},
   "outputs": [],
   "source": [
    "def make_tf_example(sequence, label):\n",
    "    example = tf.train.SequenceExample()\n",
    "    #features=tf.train.Features(feature={'wav_raw': _int64_feature(audio_serial), 'label': _bytes_feature([lbl])}))\n",
    "\n",
    "    return example"
   ]
  },
  {
   "cell_type": "code",
   "execution_count": 13,
   "metadata": {},
   "outputs": [
    {
     "ename": "TypeError",
     "evalue": "only size-1 arrays can be converted to Python scalars",
     "output_type": "error",
     "traceback": [
      "\u001b[1;31m---------------------------------------------------------------------------\u001b[0m",
      "\u001b[1;31mTypeError\u001b[0m                                 Traceback (most recent call last)",
      "\u001b[1;32m<ipython-input-13-ffc79b81333d>\u001b[0m in \u001b[0;36m<module>\u001b[1;34m\u001b[0m\n\u001b[0;32m     13\u001b[0m         \u001b[1;32mif\u001b[0m \u001b[0mfm\u001b[0m \u001b[1;33m!=\u001b[0m \u001b[1;36m16000\u001b[0m\u001b[1;33m:\u001b[0m \u001b[1;31m# check it sampling\u001b[0m\u001b[1;33m\u001b[0m\u001b[1;33m\u001b[0m\u001b[0m\n\u001b[0;32m     14\u001b[0m             \u001b[1;32mraise\u001b[0m \u001b[0mValueError\u001b[0m\u001b[1;33m(\u001b[0m\u001b[1;34m'Sampling rate is expected to be 16kHz!'\u001b[0m\u001b[1;33m)\u001b[0m\u001b[1;33m\u001b[0m\u001b[1;33m\u001b[0m\u001b[0m\n\u001b[1;32m---> 15\u001b[1;33m     \u001b[0mexample\u001b[0m \u001b[1;33m=\u001b[0m \u001b[0mtf\u001b[0m\u001b[1;33m.\u001b[0m\u001b[0mtrain\u001b[0m\u001b[1;33m.\u001b[0m\u001b[0mExample\u001b[0m\u001b[1;33m(\u001b[0m\u001b[0mfeatures\u001b[0m\u001b[1;33m=\u001b[0m\u001b[0mtf\u001b[0m\u001b[1;33m.\u001b[0m\u001b[0mtrain\u001b[0m\u001b[1;33m.\u001b[0m\u001b[0mFeatures\u001b[0m\u001b[1;33m(\u001b[0m\u001b[0mfeature\u001b[0m\u001b[1;33m=\u001b[0m\u001b[1;33m{\u001b[0m\u001b[1;34m'wav_raw'\u001b[0m\u001b[1;33m:\u001b[0m \u001b[0m_int64_feature\u001b[0m\u001b[1;33m(\u001b[0m\u001b[0maudio_serial\u001b[0m\u001b[1;33m)\u001b[0m\u001b[1;33m,\u001b[0m \u001b[1;34m'label'\u001b[0m\u001b[1;33m:\u001b[0m \u001b[0m_bytes_feature\u001b[0m\u001b[1;33m(\u001b[0m\u001b[1;33m[\u001b[0m\u001b[0mlbl\u001b[0m\u001b[1;33m]\u001b[0m\u001b[1;33m)\u001b[0m\u001b[1;33m}\u001b[0m\u001b[1;33m)\u001b[0m\u001b[1;33m)\u001b[0m\u001b[1;33m\u001b[0m\u001b[1;33m\u001b[0m\u001b[0m\n\u001b[0m\u001b[0;32m     16\u001b[0m \u001b[1;33m\u001b[0m\u001b[0m\n",
      "\u001b[1;32m<ipython-input-11-0e051ef645af>\u001b[0m in \u001b[0;36m_int64_feature\u001b[1;34m(value)\u001b[0m\n\u001b[0;32m     14\u001b[0m \u001b[1;32mdef\u001b[0m \u001b[0m_int64_feature\u001b[0m\u001b[1;33m(\u001b[0m\u001b[0mvalue\u001b[0m\u001b[1;33m)\u001b[0m\u001b[1;33m:\u001b[0m\u001b[1;33m\u001b[0m\u001b[1;33m\u001b[0m\u001b[0m\n\u001b[0;32m     15\u001b[0m     \u001b[1;34m\"\"\"Returns an int64_list from a bool / enum / int / uint.\"\"\"\u001b[0m\u001b[1;33m\u001b[0m\u001b[1;33m\u001b[0m\u001b[0m\n\u001b[1;32m---> 16\u001b[1;33m     \u001b[1;32mreturn\u001b[0m \u001b[0mtf\u001b[0m\u001b[1;33m.\u001b[0m\u001b[0mtrain\u001b[0m\u001b[1;33m.\u001b[0m\u001b[0mFeature\u001b[0m\u001b[1;33m(\u001b[0m\u001b[0mint64_list\u001b[0m\u001b[1;33m=\u001b[0m\u001b[0mtf\u001b[0m\u001b[1;33m.\u001b[0m\u001b[0mtrain\u001b[0m\u001b[1;33m.\u001b[0m\u001b[0mInt64List\u001b[0m\u001b[1;33m(\u001b[0m\u001b[0mvalue\u001b[0m\u001b[1;33m=\u001b[0m\u001b[1;33m[\u001b[0m\u001b[0mvalue\u001b[0m\u001b[1;33m]\u001b[0m\u001b[1;33m)\u001b[0m\u001b[1;33m)\u001b[0m\u001b[1;33m\u001b[0m\u001b[1;33m\u001b[0m\u001b[0m\n\u001b[0m",
      "\u001b[1;31mTypeError\u001b[0m: only size-1 arrays can be converted to Python scalars"
     ]
    }
   ],
   "source": [
    "# Define the data\n",
    "DATADIR = r\".\\Dataset\"\n",
    "LABELS = [\"clean\", \"noisy\"]\n",
    "\n",
    "for lbl in LABELS:\n",
    "    path = os.path.join(DATADIR, lbl)  # create path to sequences\n",
    "    save_path = os.path.join(DATADIR,\"records\",lbl+\"_save01.tfrecords\")\n",
    "    out_file = tf.io.TFRecordWriter(save_path) # instantiate the recorder\n",
    "    for file in os.listdir(path):  # iterate over each image per dogs and cats\n",
    "        #audio_serial = read_and_slice(os.path.join(path,file), 2 ** 14, stride=1)\n",
    "        fm, wav_data = wavfile.read(os.path.join(path,file)) # read the wav file\n",
    "        audio_serial = slice_signal(wav_data, 2 ** 14, stride=1) # transform it into a np.array\n",
    "        if fm != 16000: # check it sampling\n",
    "            raise ValueError('Sampling rate is expected to be 16kHz!')\n",
    "    \n",
    "    \n"
   ]
  },
  {
   "cell_type": "code",
   "execution_count": null,
   "metadata": {},
   "outputs": [],
   "source": [
    "bc = BertClient()\n",
    "list_vec = bc.encode(lst_str)\n",
    "list_label = [0 for _ in lst_str]  # a dummy list of all-zero labels\n",
    "\n",
    "# write to tfrecord\n",
    "with tf.python_io.TFRecordWriter('tmp.tfrecord') as writer:\n",
    "    def create_float_feature(values):\n",
    "        return tf.train.Feature(float_list=tf.train.FloatList(value=values))\n",
    "\n",
    "    def create_int_feature(values):\n",
    "        return tf.train.Feature(int64_list=tf.train.Int64List(value=list(values)))\n",
    "\n",
    "    for (vec, label) in zip(list_vec, list_label):\n",
    "        features = {'features': create_float_feature(vec), 'labels': create_int_feature([label])}\n",
    "        tf_example = tf.train.Example(features=tf.train.Features(feature=features))\n",
    "        writer.write(tf_example.SerializeToString())"
   ]
  }
 ],
 "metadata": {
  "kernelspec": {
   "display_name": "Python 3",
   "language": "python",
   "name": "python3"
  },
  "language_info": {
   "codemirror_mode": {
    "name": "ipython",
    "version": 3
   },
   "file_extension": ".py",
   "mimetype": "text/x-python",
   "name": "python",
   "nbconvert_exporter": "python",
   "pygments_lexer": "ipython3",
   "version": "3.7.6"
  }
 },
 "nbformat": 4,
 "nbformat_minor": 2
}
