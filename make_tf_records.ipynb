{
 "cells": [
  {
   "cell_type": "code",
   "execution_count": 1,
   "metadata": {},
   "outputs": [],
   "source": [
    "from __future__ import absolute_import\n",
    "from __future__ import division\n",
    "from __future__ import print_function\n",
    "\n",
    "import tensorflow as tf\n",
    "import numpy as np\n",
    "import scipy.io.wavfile as wavfile\n",
    "from io import *\n",
    "import os.path"
   ]
  },
  {
   "cell_type": "code",
   "execution_count": 11,
   "metadata": {},
   "outputs": [],
   "source": [
    "# From TFRecord Tutorial\n",
    "# The following functions can be used to convert a value to a type compatible\n",
    "\n",
    "def _bytes_feature(value):\n",
    "    \"\"\"Returns a bytes_list from a string / byte.\"\"\"\n",
    "    if isinstance(value, type(tf.constant(0))):\n",
    "        value = value.numpy() # BytesList won't unpack a string from an EagerTensor.\n",
    "    return tf.train.Feature(bytes_list=tf.train.BytesList(value=[value]))\n",
    "\n",
    "def _float_feature(value):\n",
    "    \"\"\"Returns a float_list from a float / double.\"\"\"\n",
    "    return tf.train.Feature(float_list=tf.train.FloatList(value=[value]))\n",
    "\n",
    "def _int64_feature(value):\n",
    "    \"\"\"Returns an int64_list from a bool / enum / int / uint.\"\"\"\n",
    "    return tf.train.Feature(int64_list=tf.train.Int64List(value=[value]))"
   ]
  },
  {
   "cell_type": "code",
   "execution_count": 12,
   "metadata": {},
   "outputs": [],
   "source": [
    "def slice_signal(signal, window_size, stride=0.5):\n",
    "    \"\"\" Return windows of the given signal by sweeping in stride fractions\n",
    "        of window\n",
    "    \"\"\"\n",
    "    assert signal.ndim == 1, signal.ndim\n",
    "    n_samples = signal.shape[0]\n",
    "    offset = int(window_size * stride)\n",
    "    slices = []\n",
    "    for beg_i in range(0, n_samples, offset):\n",
    "        end_i = beg_i + offset\n",
    "        slice_ = signal[beg_i:end_i]\n",
    "        # pad the rest of the slice with 0\n",
    "        if end_i - beg_i > n_samples - beg_i:\n",
    "            slice_ = signal[beg_i:n_samples]\n",
    "            test_l = np.zeros((offset-(n_samples-beg_i)))\n",
    "            slice_ = np.concatenate((slice_,test_l),axis=None)\n",
    "        if slice_.shape[0] == offset:\n",
    "            slices.append(slice_)\n",
    "    return np.array(slices, dtype=np.int32)"
   ]
  },
  {
   "cell_type": "code",
   "execution_count": 36,
   "metadata": {},
   "outputs": [],
   "source": [
    "def make_tf_example(sequence, label):\n",
    "    lbl = 0\n",
    "    if label == 'noisy':\n",
    "        lbl = 1\n",
    "    example = tf.train.SequenceExample()\n",
    "    #features=tf.train.Features(feature={'wav_raw': _int64_feature(audio_serial), 'label': _bytes_feature([lbl])}))\n",
    "    example.context.feature[\"label\"].int64_list.value.append(lbl)\n",
    "    # Feature lists for the sequential features\n",
    "    feat_values = example.feature_lists.feature_list[\"values\"]\n",
    "    for seq in sequence:\n",
    "        for value in seq:\n",
    "            feat_values.feature.add().int64_list.value.append(value)\n",
    "    return example"
   ]
  },
  {
   "cell_type": "code",
   "execution_count": 37,
   "metadata": {},
   "outputs": [
    {
     "name": "stdout",
     "output_type": "stream",
     "text": [
      "Write 50 clean to <tensorflow.python.lib.io.tf_record.TFRecordWriter object at 0x0000029F47691F88>\n",
      "Write 100 clean to <tensorflow.python.lib.io.tf_record.TFRecordWriter object at 0x0000029F46638208>\n",
      "Write 150 clean to <tensorflow.python.lib.io.tf_record.TFRecordWriter object at 0x0000029F476A6148>\n",
      "Write 200 clean to <tensorflow.python.lib.io.tf_record.TFRecordWriter object at 0x0000029F4768F6C8>\n",
      "Write 250 clean to <tensorflow.python.lib.io.tf_record.TFRecordWriter object at 0x0000029F4773E608>\n",
      "Write 300 clean to <tensorflow.python.lib.io.tf_record.TFRecordWriter object at 0x0000029F47753988>\n",
      "Write 350 clean to <tensorflow.python.lib.io.tf_record.TFRecordWriter object at 0x0000029F47763688>\n",
      "Write 400 clean to <tensorflow.python.lib.io.tf_record.TFRecordWriter object at 0x0000029F465C48C8>\n",
      "Write 450 clean to <tensorflow.python.lib.io.tf_record.TFRecordWriter object at 0x0000029F465F8448>\n",
      "Write 500 clean to <tensorflow.python.lib.io.tf_record.TFRecordWriter object at 0x0000029F4781C948>\n",
      "Write 550 clean to <tensorflow.python.lib.io.tf_record.TFRecordWriter object at 0x0000029F48B7CCC8>\n",
      "Write 600 clean to <tensorflow.python.lib.io.tf_record.TFRecordWriter object at 0x0000029F48AFF848>\n",
      "------------------- finish clean -------------------\n",
      "Write 50 noisy to <tensorflow.python.lib.io.tf_record.TFRecordWriter object at 0x0000029F48B59808>\n",
      "Write 100 noisy to <tensorflow.python.lib.io.tf_record.TFRecordWriter object at 0x0000029F48B10248>\n",
      "Write 150 noisy to <tensorflow.python.lib.io.tf_record.TFRecordWriter object at 0x0000029F48C20A88>\n",
      "Write 200 noisy to <tensorflow.python.lib.io.tf_record.TFRecordWriter object at 0x0000029F479E2F88>\n",
      "Write 250 noisy to <tensorflow.python.lib.io.tf_record.TFRecordWriter object at 0x0000029F48C1E308>\n",
      "Write 300 noisy to <tensorflow.python.lib.io.tf_record.TFRecordWriter object at 0x0000029F47935588>\n",
      "Write 350 noisy to <tensorflow.python.lib.io.tf_record.TFRecordWriter object at 0x0000029F47865488>\n",
      "Write 400 noisy to <tensorflow.python.lib.io.tf_record.TFRecordWriter object at 0x0000029F4657E048>\n",
      "Write 450 noisy to <tensorflow.python.lib.io.tf_record.TFRecordWriter object at 0x0000029F47A8B608>\n",
      "Write 500 noisy to <tensorflow.python.lib.io.tf_record.TFRecordWriter object at 0x0000029F48BC8088>\n",
      "Write 550 noisy to <tensorflow.python.lib.io.tf_record.TFRecordWriter object at 0x0000029F48BE1F48>\n",
      "Write 600 noisy to <tensorflow.python.lib.io.tf_record.TFRecordWriter object at 0x0000029F3ACEAC08>\n",
      "------------------- finish noisy -------------------\n"
     ]
    }
   ],
   "source": [
    "# Define the data\n",
    "DATADIR = r\".\\Dataset\"\n",
    "LABELS = [\"clean\", \"noisy\"]\n",
    "\n",
    "for lbl in LABELS:\n",
    "    i = 1\n",
    "    path = os.path.join(DATADIR, lbl)  # create path to sequences\n",
    "    save_path = os.path.join(DATADIR,\"records\",lbl+\"_save02.tfrecords\")\n",
    "    for file in os.listdir(path):  # iterate over each image per dogs and cats\n",
    "        out_file = tf.io.TFRecordWriter(save_path) # instantiate the recorder\n",
    "        fm, wav_data = wavfile.read(os.path.join(path,file)) # read the wav file\n",
    "        audio_serial = slice_signal(wav_data, 2 ** 14, stride=1) # transform it into a np.array\n",
    "        if fm != 16000: # check it sampling\n",
    "            raise ValueError('Sampling rate is expected to be 16kHz!')\n",
    "        tfrec = make_tf_example(audio_serial, lbl)\n",
    "        out_file.write(tfrec.SerializeToString())\n",
    "        out_file.close()\n",
    "        if i%50 == 0:        #if i == 50:\n",
    "            print(f\"Write {i} {lbl} to {out_file}\")        #break\n",
    "        i += 1\n",
    "    print(f\"------------------- finish {lbl} -------------------\")"
   ]
  },
  {
   "cell_type": "code",
   "execution_count": null,
   "metadata": {},
   "outputs": [],
   "source": []
  }
 ],
 "metadata": {
  "kernelspec": {
   "display_name": "Python 3",
   "language": "python",
   "name": "python3"
  },
  "language_info": {
   "codemirror_mode": {
    "name": "ipython",
    "version": 3
   },
   "file_extension": ".py",
   "mimetype": "text/x-python",
   "name": "python",
   "nbconvert_exporter": "python",
   "pygments_lexer": "ipython3",
   "version": "3.7.6"
  }
 },
 "nbformat": 4,
 "nbformat_minor": 2
}
